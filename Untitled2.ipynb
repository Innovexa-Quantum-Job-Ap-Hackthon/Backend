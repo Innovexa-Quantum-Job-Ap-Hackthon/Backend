{
 "cells": [
  {
   "cell_type": "code",
   "execution_count": 9,
   "id": "c00ae96a-9b91-48a5-a48f-8f6952abf291",
   "metadata": {},
   "outputs": [
    {
     "name": "stdout",
     "output_type": "stream",
     "text": [
      "Requirement already satisfied: qiskit-aer in c:\\users\\rohit\\desktop\\quantum_dashboard-finalhackthon\\backend\\start\\lib\\site-packages (0.17.1)\n",
      "Requirement already satisfied: qiskit>=1.1.0 in c:\\users\\rohit\\desktop\\quantum_dashboard-finalhackthon\\backend\\start\\lib\\site-packages (from qiskit-aer) (2.1.2)\n",
      "Requirement already satisfied: numpy>=1.16.3 in c:\\users\\rohit\\desktop\\quantum_dashboard-finalhackthon\\backend\\start\\lib\\site-packages (from qiskit-aer) (2.3.3)\n",
      "Requirement already satisfied: scipy>=1.0 in c:\\users\\rohit\\desktop\\quantum_dashboard-finalhackthon\\backend\\start\\lib\\site-packages (from qiskit-aer) (1.16.2)\n",
      "Requirement already satisfied: psutil>=5 in c:\\users\\rohit\\desktop\\quantum_dashboard-finalhackthon\\backend\\start\\lib\\site-packages (from qiskit-aer) (7.0.0)\n",
      "Requirement already satisfied: python-dateutil>=2.8.0 in c:\\users\\rohit\\desktop\\quantum_dashboard-finalhackthon\\backend\\start\\lib\\site-packages (from qiskit-aer) (2.9.0.post0)\n",
      "Requirement already satisfied: six>=1.5 in c:\\users\\rohit\\desktop\\quantum_dashboard-finalhackthon\\backend\\start\\lib\\site-packages (from python-dateutil>=2.8.0->qiskit-aer) (1.17.0)\n",
      "Requirement already satisfied: rustworkx>=0.15.0 in c:\\users\\rohit\\desktop\\quantum_dashboard-finalhackthon\\backend\\start\\lib\\site-packages (from qiskit>=1.1.0->qiskit-aer) (0.17.1)\n",
      "Requirement already satisfied: dill>=0.3 in c:\\users\\rohit\\desktop\\quantum_dashboard-finalhackthon\\backend\\start\\lib\\site-packages (from qiskit>=1.1.0->qiskit-aer) (0.4.0)\n",
      "Requirement already satisfied: stevedore>=3.0.0 in c:\\users\\rohit\\desktop\\quantum_dashboard-finalhackthon\\backend\\start\\lib\\site-packages (from qiskit>=1.1.0->qiskit-aer) (5.5.0)\n",
      "Requirement already satisfied: typing-extensions in c:\\users\\rohit\\desktop\\quantum_dashboard-finalhackthon\\backend\\start\\lib\\site-packages (from qiskit>=1.1.0->qiskit-aer) (4.15.0)\n",
      "Note: you may need to restart the kernel to use updated packages.\n"
     ]
    }
   ],
   "source": [
    "pip install qiskit-aer\n"
   ]
  },
  {
   "cell_type": "code",
   "execution_count": null,
   "id": "313d2cbf-e555-4c09-a9e6-c4d3376c3e83",
   "metadata": {},
   "outputs": [],
   "source": [
    "hello bye"
   ]
  },
  {
   "cell_type": "code",
   "execution_count": 2,
   "id": "fe73e165-5c66-4f8a-9eba-2ea0396ed5d5",
   "metadata": {},
   "outputs": [
    {
     "ename": "ImportError",
     "evalue": "cannot import name 'Sampler' from 'qiskit.primitives' (C:\\Users\\rohit\\Desktop\\Quantum_dashboard-FinalHackthon\\backend\\start\\Lib\\site-packages\\qiskit\\primitives\\__init__.py)",
     "output_type": "error",
     "traceback": [
      "\u001b[31m---------------------------------------------------------------------------\u001b[39m",
      "\u001b[31mImportError\u001b[39m                               Traceback (most recent call last)",
      "\u001b[36mCell\u001b[39m\u001b[36m \u001b[39m\u001b[32mIn[2]\u001b[39m\u001b[32m, line 2\u001b[39m\n\u001b[32m      1\u001b[39m \u001b[38;5;28;01mfrom\u001b[39;00m\u001b[38;5;250m \u001b[39m\u001b[34;01mqiskit\u001b[39;00m\u001b[38;5;250m \u001b[39m\u001b[38;5;28;01mimport\u001b[39;00m QuantumCircuit\n\u001b[32m----> \u001b[39m\u001b[32m2\u001b[39m \u001b[38;5;28;01mfrom\u001b[39;00m\u001b[38;5;250m \u001b[39m\u001b[34;01mqiskit\u001b[39;00m\u001b[34;01m.\u001b[39;00m\u001b[34;01mprimitives\u001b[39;00m\u001b[38;5;250m \u001b[39m\u001b[38;5;28;01mimport\u001b[39;00m Sampler\n\u001b[32m      3\u001b[39m \u001b[38;5;28;01mfrom\u001b[39;00m\u001b[38;5;250m \u001b[39m\u001b[34;01mqiskit\u001b[39;00m\u001b[34;01m.\u001b[39;00m\u001b[34;01mvisualization\u001b[39;00m\u001b[38;5;250m \u001b[39m\u001b[38;5;28;01mimport\u001b[39;00m plot_histogram\n\u001b[32m      4\u001b[39m \u001b[38;5;28;01mimport\u001b[39;00m\u001b[38;5;250m \u001b[39m\u001b[34;01mmatplotlib\u001b[39;00m\u001b[34;01m.\u001b[39;00m\u001b[34;01mpyplot\u001b[39;00m\u001b[38;5;250m \u001b[39m\u001b[38;5;28;01mas\u001b[39;00m\u001b[38;5;250m \u001b[39m\u001b[34;01mplt\u001b[39;00m\n",
      "\u001b[31mImportError\u001b[39m: cannot import name 'Sampler' from 'qiskit.primitives' (C:\\Users\\rohit\\Desktop\\Quantum_dashboard-FinalHackthon\\backend\\start\\Lib\\site-packages\\qiskit\\primitives\\__init__.py)"
     ]
    }
   ],
   "source": [
    "from qiskit import QuantumCircuit\n",
    "from qiskit.primitives import Sampler\n",
    "from qiskit.visualization import plot_histogram\n",
    "import matplotlib.pyplot as plt\n",
    "\n",
    "# Build circuit\n",
    "qc = QuantumCircuit(2)\n",
    "qc.h(0)\n",
    "qc.cx(0, 1)\n",
    "qc.measure_all()\n",
    "\n",
    "# Use Sampler (needs a list of circuits!)\n",
    "sampler = Sampler()\n",
    "job = sampler.run([qc], shots=1000)\n",
    "result = job.result()\n",
    "\n",
    "# Print raw result\n",
    "print(result)\n",
    "\n",
    "# Plot histogram\n",
    "counts = result[0].data.meas.get_counts()\n",
    "plot_histogram(counts)\n",
    "plt.show()\n"
   ]
  },
  {
   "cell_type": "code",
   "execution_count": null,
   "id": "06b4db8b-18e4-4344-b961-35cf545e42d9",
   "metadata": {},
   "outputs": [],
   "source": []
  },
  {
   "cell_type": "code",
   "execution_count": null,
   "id": "45c60f3b-5ca5-4100-9bd7-da451a549a84",
   "metadata": {},
   "outputs": [],
   "source": []
  }
 ],
 "metadata": {
  "kernelspec": {
   "display_name": "Python 3 (ipykernel)",
   "language": "python",
   "name": "python3"
  },
  "language_info": {
   "codemirror_mode": {
    "name": "ipython",
    "version": 3
   },
   "file_extension": ".py",
   "mimetype": "text/x-python",
   "name": "python",
   "nbconvert_exporter": "python",
   "pygments_lexer": "ipython3",
   "version": "3.13.7"
  }
 },
 "nbformat": 4,
 "nbformat_minor": 5
}
