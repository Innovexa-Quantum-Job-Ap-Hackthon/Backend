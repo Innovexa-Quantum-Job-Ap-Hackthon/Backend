{
 "cells": [
  {
   "cell_type": "code",
   "execution_count": 2,
   "id": "ec52b566-40d4-4270-9a7a-06e22782165f",
   "metadata": {},
   "outputs": [
    {
     "name": "stderr",
     "output_type": "stream",
     "text": [
      "UsageError: Cell magic `%%qcompile` not found.\n"
     ]
    }
   ],
   "source": [
    "%%qcompile\n",
    "OPENQASM 2.0;\n",
    "include \"qelib1.inc\";\n",
    "qreg q[3];\n",
    "creg c[3];\n",
    "h q[0];\n",
    "cx q[0],q[1];\n",
    "cx q[1],q[2];\n",
    "measure q[0] -> c[0];\n",
    "measure q[1] -> c[1];\n",
    "measure q[2] -> c[1];"
   ]
  },
  {
   "cell_type": "code",
   "execution_count": 7,
   "id": "411ffba2-e464-43fe-b45f-6f3740dad7e0",
   "metadata": {},
   "outputs": [
    {
     "name": "stdout",
     "output_type": "stream",
     "text": [
      "Requirement already satisfied: qiskit in c:\\users\\alisha\\desktop\\githud_code\\venv\\lib\\site-packages (2.2.1)\n",
      "Requirement already satisfied: rustworkx>=0.15.0 in c:\\users\\alisha\\desktop\\githud_code\\venv\\lib\\site-packages (from qiskit) (0.17.1)\n",
      "Requirement already satisfied: numpy<3,>=1.17 in c:\\users\\alisha\\desktop\\githud_code\\venv\\lib\\site-packages (from qiskit) (2.3.3)\n",
      "Requirement already satisfied: scipy>=1.5 in c:\\users\\alisha\\desktop\\githud_code\\venv\\lib\\site-packages (from qiskit) (1.16.2)\n",
      "Requirement already satisfied: dill>=0.3 in c:\\users\\alisha\\desktop\\githud_code\\venv\\lib\\site-packages (from qiskit) (0.4.0)\n",
      "Requirement already satisfied: stevedore>=3.0.0 in c:\\users\\alisha\\desktop\\githud_code\\venv\\lib\\site-packages (from qiskit) (5.5.0)\n",
      "Requirement already satisfied: typing-extensions in c:\\users\\alisha\\desktop\\githud_code\\venv\\lib\\site-packages (from qiskit) (4.15.0)\n",
      "Note: you may need to restart the kernel to use updated packages.\n"
     ]
    },
    {
     "name": "stderr",
     "output_type": "stream",
     "text": [
      "\n",
      "[notice] A new release of pip is available: 25.0.1 -> 25.2\n",
      "[notice] To update, run: python.exe -m pip install --upgrade pip\n"
     ]
    }
   ],
   "source": [
    "pip install qiskit"
   ]
  },
  {
   "cell_type": "code",
   "execution_count": 1,
   "id": "434fcf89-7de7-4b30-93de-dbac974818a0",
   "metadata": {},
   "outputs": [
    {
     "name": "stdout",
     "output_type": "stream",
     "text": [
      "Requirement already satisfied: qiskit in c:\\users\\alisha\\desktop\\githud_code\\venv\\lib\\site-packages (2.2.1)\n",
      "Requirement already satisfied: qiskit-aer in c:\\users\\alisha\\desktop\\githud_code\\venv\\lib\\site-packages (0.17.2)\n",
      "Requirement already satisfied: qiskit-ibm-runtime in c:\\users\\alisha\\desktop\\githud_code\\venv\\lib\\site-packages (0.42.0)\n",
      "Requirement already satisfied: matplotlib in c:\\users\\alisha\\desktop\\githud_code\\venv\\lib\\site-packages (3.10.7)\n",
      "Requirement already satisfied: rustworkx>=0.15.0 in c:\\users\\alisha\\desktop\\githud_code\\venv\\lib\\site-packages (from qiskit) (0.17.1)\n",
      "Requirement already satisfied: numpy<3,>=1.17 in c:\\users\\alisha\\desktop\\githud_code\\venv\\lib\\site-packages (from qiskit) (2.3.3)\n",
      "Requirement already satisfied: scipy>=1.5 in c:\\users\\alisha\\desktop\\githud_code\\venv\\lib\\site-packages (from qiskit) (1.16.2)\n",
      "Requirement already satisfied: dill>=0.3 in c:\\users\\alisha\\desktop\\githud_code\\venv\\lib\\site-packages (from qiskit) (0.4.0)\n",
      "Requirement already satisfied: stevedore>=3.0.0 in c:\\users\\alisha\\desktop\\githud_code\\venv\\lib\\site-packages (from qiskit) (5.5.0)\n",
      "Requirement already satisfied: typing-extensions in c:\\users\\alisha\\desktop\\githud_code\\venv\\lib\\site-packages (from qiskit) (4.15.0)\n",
      "Requirement already satisfied: psutil>=5 in c:\\users\\alisha\\desktop\\githud_code\\venv\\lib\\site-packages (from qiskit-aer) (7.1.0)\n",
      "Requirement already satisfied: python-dateutil>=2.8.0 in c:\\users\\alisha\\desktop\\githud_code\\venv\\lib\\site-packages (from qiskit-aer) (2.9.0.post0)\n",
      "Requirement already satisfied: requests>=2.19 in c:\\users\\alisha\\desktop\\githud_code\\venv\\lib\\site-packages (from qiskit-ibm-runtime) (2.32.5)\n",
      "Requirement already satisfied: requests-ntlm>=1.1.0 in c:\\users\\alisha\\desktop\\githud_code\\venv\\lib\\site-packages (from qiskit-ibm-runtime) (1.3.0)\n",
      "Requirement already satisfied: urllib3>=1.21.1 in c:\\users\\alisha\\desktop\\githud_code\\venv\\lib\\site-packages (from qiskit-ibm-runtime) (2.5.0)\n",
      "Requirement already satisfied: ibm-platform-services>=0.22.6 in c:\\users\\alisha\\desktop\\githud_code\\venv\\lib\\site-packages (from qiskit-ibm-runtime) (0.69.0)\n",
      "Requirement already satisfied: pydantic>=2.5.0 in c:\\users\\alisha\\desktop\\githud_code\\venv\\lib\\site-packages (from qiskit-ibm-runtime) (2.12.0)\n",
      "Requirement already satisfied: packaging in c:\\users\\alisha\\desktop\\githud_code\\venv\\lib\\site-packages (from qiskit-ibm-runtime) (25.0)\n",
      "Requirement already satisfied: contourpy>=1.0.1 in c:\\users\\alisha\\desktop\\githud_code\\venv\\lib\\site-packages (from matplotlib) (1.3.3)\n",
      "Requirement already satisfied: cycler>=0.10 in c:\\users\\alisha\\desktop\\githud_code\\venv\\lib\\site-packages (from matplotlib) (0.12.1)\n",
      "Requirement already satisfied: fonttools>=4.22.0 in c:\\users\\alisha\\desktop\\githud_code\\venv\\lib\\site-packages (from matplotlib) (4.60.1)\n",
      "Requirement already satisfied: kiwisolver>=1.3.1 in c:\\users\\alisha\\desktop\\githud_code\\venv\\lib\\site-packages (from matplotlib) (1.4.9)\n",
      "Requirement already satisfied: pillow>=8 in c:\\users\\alisha\\desktop\\githud_code\\venv\\lib\\site-packages (from matplotlib) (11.3.0)\n",
      "Requirement already satisfied: pyparsing>=3 in c:\\users\\alisha\\desktop\\githud_code\\venv\\lib\\site-packages (from matplotlib) (3.2.5)\n",
      "Requirement already satisfied: ibm_cloud_sdk_core<4.0.0,>=3.24.2 in c:\\users\\alisha\\desktop\\githud_code\\venv\\lib\\site-packages (from ibm-platform-services>=0.22.6->qiskit-ibm-runtime) (3.24.2)\n",
      "Requirement already satisfied: annotated-types>=0.6.0 in c:\\users\\alisha\\desktop\\githud_code\\venv\\lib\\site-packages (from pydantic>=2.5.0->qiskit-ibm-runtime) (0.7.0)\n",
      "Requirement already satisfied: pydantic-core==2.41.1 in c:\\users\\alisha\\desktop\\githud_code\\venv\\lib\\site-packages (from pydantic>=2.5.0->qiskit-ibm-runtime) (2.41.1)\n",
      "Requirement already satisfied: typing-inspection>=0.4.2 in c:\\users\\alisha\\desktop\\githud_code\\venv\\lib\\site-packages (from pydantic>=2.5.0->qiskit-ibm-runtime) (0.4.2)\n",
      "Requirement already satisfied: six>=1.5 in c:\\users\\alisha\\desktop\\githud_code\\venv\\lib\\site-packages (from python-dateutil>=2.8.0->qiskit-aer) (1.17.0)\n",
      "Requirement already satisfied: charset_normalizer<4,>=2 in c:\\users\\alisha\\desktop\\githud_code\\venv\\lib\\site-packages (from requests>=2.19->qiskit-ibm-runtime) (3.4.3)\n",
      "Requirement already satisfied: idna<4,>=2.5 in c:\\users\\alisha\\desktop\\githud_code\\venv\\lib\\site-packages (from requests>=2.19->qiskit-ibm-runtime) (3.10)\n",
      "Requirement already satisfied: certifi>=2017.4.17 in c:\\users\\alisha\\desktop\\githud_code\\venv\\lib\\site-packages (from requests>=2.19->qiskit-ibm-runtime) (2025.10.5)\n",
      "Requirement already satisfied: cryptography>=1.3 in c:\\users\\alisha\\desktop\\githud_code\\venv\\lib\\site-packages (from requests-ntlm>=1.1.0->qiskit-ibm-runtime) (46.0.2)\n",
      "Requirement already satisfied: pyspnego>=0.4.0 in c:\\users\\alisha\\desktop\\githud_code\\venv\\lib\\site-packages (from requests-ntlm>=1.1.0->qiskit-ibm-runtime) (0.12.0)\n",
      "Requirement already satisfied: cffi>=2.0.0 in c:\\users\\alisha\\desktop\\githud_code\\venv\\lib\\site-packages (from cryptography>=1.3->requests-ntlm>=1.1.0->qiskit-ibm-runtime) (2.0.0)\n",
      "Requirement already satisfied: PyJWT<3.0.0,>=2.10.1 in c:\\users\\alisha\\desktop\\githud_code\\venv\\lib\\site-packages (from ibm_cloud_sdk_core<4.0.0,>=3.24.2->ibm-platform-services>=0.22.6->qiskit-ibm-runtime) (2.10.1)\n",
      "Requirement already satisfied: sspilib>=0.3.0 in c:\\users\\alisha\\desktop\\githud_code\\venv\\lib\\site-packages (from pyspnego>=0.4.0->requests-ntlm>=1.1.0->qiskit-ibm-runtime) (0.4.0)\n",
      "Requirement already satisfied: pycparser in c:\\users\\alisha\\desktop\\githud_code\\venv\\lib\\site-packages (from cffi>=2.0.0->cryptography>=1.3->requests-ntlm>=1.1.0->qiskit-ibm-runtime) (2.23)\n",
      "Note: you may need to restart the kernel to use updated packages.\n"
     ]
    },
    {
     "name": "stderr",
     "output_type": "stream",
     "text": [
      "\n",
      "[notice] A new release of pip is available: 25.0.1 -> 25.2\n",
      "[notice] To update, run: python.exe -m pip install --upgrade pip\n"
     ]
    }
   ],
   "source": [
    "pip install qiskit qiskit-aer qiskit-ibm-runtime matplotlib"
   ]
  },
  {
   "cell_type": "code",
   "execution_count": 2,
   "id": "d5298693-a7b5-4a7a-b6b7-fa0b3e140c84",
   "metadata": {},
   "outputs": [
    {
     "name": "stdout",
     "output_type": "stream",
     "text": [
      "--- Circuit Drawing ---\n",
      "     ┌───┐     ┌─┐   \n",
      "q_0: ┤ H ├──■──┤M├───\n",
      "     └───┘┌─┴─┐└╥┘┌─┐\n",
      "q_1: ─────┤ X ├─╫─┤M├\n",
      "          └───┘ ║ └╥┘\n",
      "c: 2/═══════════╩══╩═\n",
      "                0  1 \n",
      "\n",
      "--- Simulation Results ---\n",
      "Total counts for 00 and 11 are: {'11': 517, '00': 507}\n"
     ]
    }
   ],
   "source": [
    "from qiskit import QuantumCircuit, transpile\n",
    "from qiskit_aer import Aer\n",
    "from qiskit.visualization import plot_histogram\n",
    "\n",
    "# 1. Create a Quantum Circuit (Bell State)\n",
    "# A circuit with 2 quantum bits (q) and 2 classical bits (c)\n",
    "circuit = QuantumCircuit(2, 2)\n",
    "\n",
    "# Apply a Hadamard gate (H) to the first qubit (q[0])\n",
    "circuit.h(0)\n",
    "\n",
    "# Apply a Controlled-NOT gate (CX) with control on q[0] and target on q[1]\n",
    "circuit.cx(0, 1)\n",
    "\n",
    "# Map the quantum measurements to the classical bits\n",
    "circuit.measure([0, 1], [0, 1])\n",
    "\n",
    "# Draw the circuit to check its structure\n",
    "print(\"--- Circuit Drawing ---\")\n",
    "print(circuit.draw(output='text', fold=-1))\n",
    "\n",
    "# 2. Execute the circuit on the QASM simulator\n",
    "# Use Aer's qasm_simulator\n",
    "simulator = Aer.get_backend('qasm_simulator')\n",
    "\n",
    "# Transpile (optimize/compile) the circuit for the simulator\n",
    "compiled_circuit = transpile(circuit, simulator)\n",
    "\n",
    "# Run the circuit 1024 times (shots)\n",
    "job = simulator.run(compiled_circuit, shots=1024)\n",
    "\n",
    "# Get the results\n",
    "result = job.result()\n",
    "\n",
    "# Get the measurement counts (how many times each result occurred)\n",
    "counts = result.get_counts(circuit)\n",
    "\n",
    "# 3. Print and Visualize the results\n",
    "print(\"\\n--- Simulation Results ---\")\n",
    "print(f\"Total counts for 00 and 11 are: {counts}\")\n",
    "\n",
    "# Plot a histogram of the results\n",
    "# Note: You need to run this code in an environment (like Jupyter) that can display plots\n",
    "plot = plot_histogram(counts, title=\"Bell State Measurement Results\")\n",
    "# If running in a Jupyter Notebook, display the plot\n",
    "# plot"
   ]
  },
  {
   "cell_type": "code",
   "execution_count": 3,
   "id": "66282749-4aca-4dd5-89eb-f12de19a5f4d",
   "metadata": {},
   "outputs": [
    {
     "name": "stdout",
     "output_type": "stream",
     "text": [
      "Requirement already satisfied: qiskit in c:\\users\\alisha\\desktop\\githud_code\\venv\\lib\\site-packages (2.2.1)\n",
      "Requirement already satisfied: qiskit-ibm-runtime in c:\\users\\alisha\\desktop\\githud_code\\venv\\lib\\site-packages (0.42.0)\n",
      "Requirement already satisfied: rustworkx>=0.15.0 in c:\\users\\alisha\\desktop\\githud_code\\venv\\lib\\site-packages (from qiskit) (0.17.1)\n",
      "Requirement already satisfied: numpy<3,>=1.17 in c:\\users\\alisha\\desktop\\githud_code\\venv\\lib\\site-packages (from qiskit) (2.3.3)\n",
      "Requirement already satisfied: scipy>=1.5 in c:\\users\\alisha\\desktop\\githud_code\\venv\\lib\\site-packages (from qiskit) (1.16.2)\n",
      "Requirement already satisfied: dill>=0.3 in c:\\users\\alisha\\desktop\\githud_code\\venv\\lib\\site-packages (from qiskit) (0.4.0)\n",
      "Requirement already satisfied: stevedore>=3.0.0 in c:\\users\\alisha\\desktop\\githud_code\\venv\\lib\\site-packages (from qiskit) (5.5.0)\n",
      "Requirement already satisfied: typing-extensions in c:\\users\\alisha\\desktop\\githud_code\\venv\\lib\\site-packages (from qiskit) (4.15.0)\n",
      "Requirement already satisfied: requests>=2.19 in c:\\users\\alisha\\desktop\\githud_code\\venv\\lib\\site-packages (from qiskit-ibm-runtime) (2.32.5)\n",
      "Requirement already satisfied: requests-ntlm>=1.1.0 in c:\\users\\alisha\\desktop\\githud_code\\venv\\lib\\site-packages (from qiskit-ibm-runtime) (1.3.0)\n",
      "Requirement already satisfied: urllib3>=1.21.1 in c:\\users\\alisha\\desktop\\githud_code\\venv\\lib\\site-packages (from qiskit-ibm-runtime) (2.5.0)\n",
      "Requirement already satisfied: python-dateutil>=2.8.0 in c:\\users\\alisha\\desktop\\githud_code\\venv\\lib\\site-packages (from qiskit-ibm-runtime) (2.9.0.post0)\n",
      "Requirement already satisfied: ibm-platform-services>=0.22.6 in c:\\users\\alisha\\desktop\\githud_code\\venv\\lib\\site-packages (from qiskit-ibm-runtime) (0.69.0)\n",
      "Requirement already satisfied: pydantic>=2.5.0 in c:\\users\\alisha\\desktop\\githud_code\\venv\\lib\\site-packages (from qiskit-ibm-runtime) (2.12.0)\n",
      "Requirement already satisfied: packaging in c:\\users\\alisha\\desktop\\githud_code\\venv\\lib\\site-packages (from qiskit-ibm-runtime) (25.0)\n",
      "Requirement already satisfied: ibm_cloud_sdk_core<4.0.0,>=3.24.2 in c:\\users\\alisha\\desktop\\githud_code\\venv\\lib\\site-packages (from ibm-platform-services>=0.22.6->qiskit-ibm-runtime) (3.24.2)\n",
      "Requirement already satisfied: annotated-types>=0.6.0 in c:\\users\\alisha\\desktop\\githud_code\\venv\\lib\\site-packages (from pydantic>=2.5.0->qiskit-ibm-runtime) (0.7.0)\n",
      "Requirement already satisfied: pydantic-core==2.41.1 in c:\\users\\alisha\\desktop\\githud_code\\venv\\lib\\site-packages (from pydantic>=2.5.0->qiskit-ibm-runtime) (2.41.1)\n",
      "Requirement already satisfied: typing-inspection>=0.4.2 in c:\\users\\alisha\\desktop\\githud_code\\venv\\lib\\site-packages (from pydantic>=2.5.0->qiskit-ibm-runtime) (0.4.2)\n",
      "Requirement already satisfied: six>=1.5 in c:\\users\\alisha\\desktop\\githud_code\\venv\\lib\\site-packages (from python-dateutil>=2.8.0->qiskit-ibm-runtime) (1.17.0)\n",
      "Requirement already satisfied: charset_normalizer<4,>=2 in c:\\users\\alisha\\desktop\\githud_code\\venv\\lib\\site-packages (from requests>=2.19->qiskit-ibm-runtime) (3.4.3)\n",
      "Requirement already satisfied: idna<4,>=2.5 in c:\\users\\alisha\\desktop\\githud_code\\venv\\lib\\site-packages (from requests>=2.19->qiskit-ibm-runtime) (3.10)\n",
      "Requirement already satisfied: certifi>=2017.4.17 in c:\\users\\alisha\\desktop\\githud_code\\venv\\lib\\site-packages (from requests>=2.19->qiskit-ibm-runtime) (2025.10.5)\n",
      "Requirement already satisfied: cryptography>=1.3 in c:\\users\\alisha\\desktop\\githud_code\\venv\\lib\\site-packages (from requests-ntlm>=1.1.0->qiskit-ibm-runtime) (46.0.2)\n",
      "Requirement already satisfied: pyspnego>=0.4.0 in c:\\users\\alisha\\desktop\\githud_code\\venv\\lib\\site-packages (from requests-ntlm>=1.1.0->qiskit-ibm-runtime) (0.12.0)\n",
      "Requirement already satisfied: cffi>=2.0.0 in c:\\users\\alisha\\desktop\\githud_code\\venv\\lib\\site-packages (from cryptography>=1.3->requests-ntlm>=1.1.0->qiskit-ibm-runtime) (2.0.0)\n",
      "Requirement already satisfied: PyJWT<3.0.0,>=2.10.1 in c:\\users\\alisha\\desktop\\githud_code\\venv\\lib\\site-packages (from ibm_cloud_sdk_core<4.0.0,>=3.24.2->ibm-platform-services>=0.22.6->qiskit-ibm-runtime) (2.10.1)\n",
      "Requirement already satisfied: sspilib>=0.3.0 in c:\\users\\alisha\\desktop\\githud_code\\venv\\lib\\site-packages (from pyspnego>=0.4.0->requests-ntlm>=1.1.0->qiskit-ibm-runtime) (0.4.0)\n",
      "Requirement already satisfied: pycparser in c:\\users\\alisha\\desktop\\githud_code\\venv\\lib\\site-packages (from cffi>=2.0.0->cryptography>=1.3->requests-ntlm>=1.1.0->qiskit-ibm-runtime) (2.23)\n",
      "Note: you may need to restart the kernel to use updated packages.\n"
     ]
    },
    {
     "name": "stderr",
     "output_type": "stream",
     "text": [
      "\n",
      "[notice] A new release of pip is available: 25.0.1 -> 25.2\n",
      "[notice] To update, run: python.exe -m pip install --upgrade pip\n"
     ]
    }
   ],
   "source": [
    "pip install qiskit qiskit-ibm-runtime"
   ]
  },
  {
   "cell_type": "code",
   "execution_count": 4,
   "id": "f5ab65f3-f14e-44e2-9569-792245050878",
   "metadata": {},
   "outputs": [
    {
     "name": "stderr",
     "output_type": "stream",
     "text": [
      "management.get:WARNING:2025-10-09 23:22:32,805: Loading default saved account\n"
     ]
    },
    {
     "ename": "IBMInputValueError",
     "evalue": "'The instance specified (ibm-q/open/main) is not a valid instance name.'",
     "output_type": "error",
     "traceback": [
      "\u001b[31m---------------------------------------------------------------------------\u001b[39m",
      "\u001b[31mIBMInputValueError\u001b[39m                        Traceback (most recent call last)",
      "\u001b[36mCell\u001b[39m\u001b[36m \u001b[39m\u001b[32mIn[4]\u001b[39m\u001b[32m, line 7\u001b[39m\n\u001b[32m      2\u001b[39m \u001b[38;5;28;01mfrom\u001b[39;00m\u001b[38;5;250m \u001b[39m\u001b[34;01mqiskit\u001b[39;00m\u001b[38;5;250m \u001b[39m\u001b[38;5;28;01mimport\u001b[39;00m QuantumCircuit, transpile\n\u001b[32m      4\u001b[39m \u001b[38;5;66;03m# 1. Initialize the service and authenticate\u001b[39;00m\n\u001b[32m      5\u001b[39m \u001b[38;5;66;03m# The service automatically loads your API token from an environment variable \u001b[39;00m\n\u001b[32m      6\u001b[39m \u001b[38;5;66;03m# (QISKIT_IBM_TOKEN) or from a saved configuration file.\u001b[39;00m\n\u001b[32m----> \u001b[39m\u001b[32m7\u001b[39m service = \u001b[43mQiskitRuntimeService\u001b[49m\u001b[43m(\u001b[49m\u001b[43m)\u001b[49m\n\u001b[32m      9\u001b[39m \u001b[38;5;66;03m# 2. Define the Target Quantum Computer (Backend)\u001b[39;00m\n\u001b[32m     10\u001b[39m \u001b[38;5;66;03m# 'ibm_brisbane' is the name of the quantum system\u001b[39;00m\n\u001b[32m     11\u001b[39m backend_name = \u001b[33m\"\u001b[39m\u001b[33mibm_brisbane\u001b[39m\u001b[33m\"\u001b[39m\n",
      "\u001b[36mFile \u001b[39m\u001b[32m~\\Desktop\\githud_code\\venv\\Lib\\site-packages\\qiskit_ibm_runtime\\qiskit_runtime_service.py:196\u001b[39m, in \u001b[36mQiskitRuntimeService.__init__\u001b[39m\u001b[34m(self, channel, token, url, filename, name, instance, proxies, verify, private_endpoint, url_resolver, region, plans_preference, tags)\u001b[39m\n\u001b[32m    194\u001b[39m \u001b[38;5;28mself\u001b[39m._all_instances: List[Dict[\u001b[38;5;28mstr\u001b[39m, Any]] = []\n\u001b[32m    195\u001b[39m \u001b[38;5;28mself\u001b[39m._saved_instances: List[\u001b[38;5;28mstr\u001b[39m] = []\n\u001b[32m--> \u001b[39m\u001b[32m196\u001b[39m \u001b[38;5;28mself\u001b[39m._account = \u001b[38;5;28;43mself\u001b[39;49m\u001b[43m.\u001b[49m\u001b[43m_discover_account\u001b[49m\u001b[43m(\u001b[49m\n\u001b[32m    197\u001b[39m \u001b[43m    \u001b[49m\u001b[43mtoken\u001b[49m\u001b[43m=\u001b[49m\u001b[43mtoken\u001b[49m\u001b[43m,\u001b[49m\n\u001b[32m    198\u001b[39m \u001b[43m    \u001b[49m\u001b[43murl\u001b[49m\u001b[43m=\u001b[49m\u001b[43murl\u001b[49m\u001b[43m,\u001b[49m\n\u001b[32m    199\u001b[39m \u001b[43m    \u001b[49m\u001b[43minstance\u001b[49m\u001b[43m=\u001b[49m\u001b[43minstance\u001b[49m\u001b[43m,\u001b[49m\n\u001b[32m    200\u001b[39m \u001b[43m    \u001b[49m\u001b[43mchannel\u001b[49m\u001b[43m=\u001b[49m\u001b[43mchannel\u001b[49m\u001b[43m,\u001b[49m\n\u001b[32m    201\u001b[39m \u001b[43m    \u001b[49m\u001b[43mfilename\u001b[49m\u001b[43m=\u001b[49m\u001b[43mfilename\u001b[49m\u001b[43m,\u001b[49m\n\u001b[32m    202\u001b[39m \u001b[43m    \u001b[49m\u001b[43mname\u001b[49m\u001b[43m=\u001b[49m\u001b[43mname\u001b[49m\u001b[43m,\u001b[49m\n\u001b[32m    203\u001b[39m \u001b[43m    \u001b[49m\u001b[43mproxies\u001b[49m\u001b[43m=\u001b[49m\u001b[43mProxyConfiguration\u001b[49m\u001b[43m(\u001b[49m\u001b[43m*\u001b[49m\u001b[43m*\u001b[49m\u001b[43mproxies\u001b[49m\u001b[43m)\u001b[49m\u001b[43m \u001b[49m\u001b[38;5;28;43;01mif\u001b[39;49;00m\u001b[43m \u001b[49m\u001b[43mproxies\u001b[49m\u001b[43m \u001b[49m\u001b[38;5;28;43;01melse\u001b[39;49;00m\u001b[43m \u001b[49m\u001b[38;5;28;43;01mNone\u001b[39;49;00m\u001b[43m,\u001b[49m\n\u001b[32m    204\u001b[39m \u001b[43m    \u001b[49m\u001b[43mverify\u001b[49m\u001b[43m=\u001b[49m\u001b[43mverify\u001b[49m\u001b[43m,\u001b[49m\n\u001b[32m    205\u001b[39m \u001b[43m\u001b[49m\u001b[43m)\u001b[49m\n\u001b[32m    207\u001b[39m \u001b[38;5;28;01mif\u001b[39;00m private_endpoint \u001b[38;5;129;01mis\u001b[39;00m \u001b[38;5;129;01mnot\u001b[39;00m \u001b[38;5;28;01mNone\u001b[39;00m:\n\u001b[32m    208\u001b[39m     \u001b[38;5;28mself\u001b[39m._account.private_endpoint = private_endpoint\n",
      "\u001b[36mFile \u001b[39m\u001b[32m~\\Desktop\\githud_code\\venv\\Lib\\site-packages\\qiskit_ibm_runtime\\qiskit_runtime_service.py:441\u001b[39m, in \u001b[36mQiskitRuntimeService._discover_account\u001b[39m\u001b[34m(self, token, url, instance, channel, filename, name, proxies, verify)\u001b[39m\n\u001b[32m    435\u001b[39m \u001b[38;5;66;03m# if instance is a name, change it to crn format\u001b[39;00m\n\u001b[32m    436\u001b[39m \u001b[38;5;28;01mif\u001b[39;00m (\n\u001b[32m    437\u001b[39m     account.channel \u001b[38;5;129;01min\u001b[39;00m [\u001b[33m\"\u001b[39m\u001b[33mibm_cloud\u001b[39m\u001b[33m\"\u001b[39m, \u001b[33m\"\u001b[39m\u001b[33mibm_quantum_platform\u001b[39m\u001b[33m\"\u001b[39m]\n\u001b[32m    438\u001b[39m     \u001b[38;5;129;01mand\u001b[39;00m account.instance\n\u001b[32m    439\u001b[39m     \u001b[38;5;129;01mand\u001b[39;00m \u001b[38;5;129;01mnot\u001b[39;00m is_crn(account.instance)\n\u001b[32m    440\u001b[39m ):\n\u001b[32m--> \u001b[39m\u001b[32m441\u001b[39m     account.instance = \u001b[38;5;28;43mself\u001b[39;49m\u001b[43m.\u001b[49m\u001b[43m_get_crn_from_instance_name\u001b[49m\u001b[43m(\u001b[49m\n\u001b[32m    442\u001b[39m \u001b[43m        \u001b[49m\u001b[43maccount\u001b[49m\u001b[43m=\u001b[49m\u001b[43maccount\u001b[49m\u001b[43m,\u001b[49m\u001b[43m \u001b[49m\u001b[43minstance\u001b[49m\u001b[43m=\u001b[49m\u001b[43maccount\u001b[49m\u001b[43m.\u001b[49m\u001b[43minstance\u001b[49m\n\u001b[32m    443\u001b[39m \u001b[43m    \u001b[49m\u001b[43m)\u001b[49m\n\u001b[32m    445\u001b[39m \u001b[38;5;66;03m# ensure account is valid, fail early if not\u001b[39;00m\n\u001b[32m    446\u001b[39m account.validate()\n",
      "\u001b[36mFile \u001b[39m\u001b[32m~\\Desktop\\githud_code\\venv\\Lib\\site-packages\\qiskit_ibm_runtime\\qiskit_runtime_service.py:463\u001b[39m, in \u001b[36mQiskitRuntimeService._get_crn_from_instance_name\u001b[39m\u001b[34m(self, account, instance)\u001b[39m\n\u001b[32m    461\u001b[39m     \u001b[38;5;28;01mreturn\u001b[39;00m matching_instances[\u001b[32m0\u001b[39m][\u001b[33m\"\u001b[39m\u001b[33mcrn\u001b[39m\u001b[33m\"\u001b[39m]\n\u001b[32m    462\u001b[39m \u001b[38;5;28;01melse\u001b[39;00m:\n\u001b[32m--> \u001b[39m\u001b[32m463\u001b[39m     \u001b[38;5;28;01mraise\u001b[39;00m IBMInputValueError(\n\u001b[32m    464\u001b[39m         \u001b[33mf\u001b[39m\u001b[33m\"\u001b[39m\u001b[33mThe instance specified (\u001b[39m\u001b[38;5;132;01m{\u001b[39;00minstance\u001b[38;5;132;01m}\u001b[39;00m\u001b[33m) is not a valid \u001b[39m\u001b[33m\"\u001b[39m \u001b[33m\"\u001b[39m\u001b[33minstance name.\u001b[39m\u001b[33m\"\u001b[39m\n\u001b[32m    465\u001b[39m     )\n",
      "\u001b[31mIBMInputValueError\u001b[39m: 'The instance specified (ibm-q/open/main) is not a valid instance name.'"
     ]
    }
   ],
   "source": [
    "from qiskit_ibm_runtime import QiskitRuntimeService, SamplerV2\n",
    "from qiskit import QuantumCircuit, transpile\n",
    "\n",
    "# 1. Initialize the service and authenticate\n",
    "# The service automatically loads your API token from an environment variable \n",
    "# (QISKIT_IBM_TOKEN) or from a saved configuration file.\n",
    "service = QiskitRuntimeService()\n",
    "\n",
    "# 2. Define the Target Quantum Computer (Backend)\n",
    "# 'ibm_brisbane' is the name of the quantum system\n",
    "backend_name = \"ibm_brisbane\"\n",
    "\n",
    "# 3. Create your Quantum Circuit (using the Bell circuit as an example)\n",
    "qc = QuantumCircuit(2, 2)\n",
    "qc.h(0)\n",
    "qc.cx(0, 1)\n",
    "qc.measure([0, 1], [0, 1])\n",
    "\n",
    "# 4. Instantiate the Sampler and Transpile the Circuit\n",
    "# SamplerV2 is used to run circuits and get quasi-probability distributions (counts)\n",
    "sampler = SamplerV2(service=service, backend=backend_name)\n",
    "\n",
    "# 5. Submit the Job to the Quantum Computer\n",
    "print(f\"Submitting job to {backend_name}...\")\n",
    "job = sampler.run([qc], shots=1024)\n",
    "\n",
    "# 6. Retrieve the Job ID (for tracking)\n",
    "print(f\"Job ID: {job.job_id}\")\n",
    "print(\"Waiting for job to complete...\")\n",
    "\n",
    "# 7. Get the Results\n",
    "# This command waits for the job to finish on the quantum computer\n",
    "result = job.result()\n",
    "data = result[0].data.meas.get_counts()\n",
    "\n",
    "# 8. Print the counts\n",
    "print(\"\\nResults from IBM Brisbane:\")\n",
    "print(data)"
   ]
  },
  {
   "cell_type": "code",
   "execution_count": 1,
   "id": "6ae54804-138d-48bf-864a-7d3f176427f8",
   "metadata": {},
   "outputs": [
    {
     "ename": "NameError",
     "evalue": "name 'Tuple' is not defined",
     "output_type": "error",
     "traceback": [
      "\u001b[31m---------------------------------------------------------------------------\u001b[39m",
      "\u001b[31mNameError\u001b[39m                                 Traceback (most recent call last)",
      "\u001b[36mCell\u001b[39m\u001b[36m \u001b[39m\u001b[32mIn[1]\u001b[39m\u001b[32m, line 1\u001b[39m\n\u001b[32m----> \u001b[39m\u001b[32m1\u001b[39m \u001b[38;5;28;01mfrom\u001b[39;00m\u001b[38;5;250m \u001b[39m\u001b[34;01mqcompile_magic\u001b[39;00m\u001b[38;5;250m \u001b[39m\u001b[38;5;28;01mimport\u001b[39;00m *\n",
      "\u001b[36mFile \u001b[39m\u001b[32m~\\Desktop\\githud_code\\Backend-Innovexa-main\\qcompile_magic.py:51\u001b[39m\n\u001b[32m     44\u001b[39m         \u001b[38;5;28;01mreturn\u001b[39;00m [\n\u001b[32m     45\u001b[39m             { \u001b[33m\"\u001b[39m\u001b[33mname\u001b[39m\u001b[33m\"\u001b[39m: \u001b[33m\"\u001b[39m\u001b[33mibm_brisbane\u001b[39m\u001b[33m\"\u001b[39m, \u001b[33m\"\u001b[39m\u001b[33mqubits\u001b[39m\u001b[33m\"\u001b[39m: \u001b[32m127\u001b[39m, \u001b[33m\"\u001b[39m\u001b[33mbasis_gates\u001b[39m\u001b[33m\"\u001b[39m: [\u001b[33m\"\u001b[39m\u001b[33mid\u001b[39m\u001b[33m\"\u001b[39m, \u001b[33m\"\u001b[39m\u001b[33mrz\u001b[39m\u001b[33m\"\u001b[39m, \u001b[33m\"\u001b[39m\u001b[33msx\u001b[39m\u001b[33m\"\u001b[39m, \u001b[33m\"\u001b[39m\u001b[33mx\u001b[39m\u001b[33m\"\u001b[39m, \u001b[33m\"\u001b[39m\u001b[33mcx\u001b[39m\u001b[33m\"\u001b[39m, \u001b[33m\"\u001b[39m\u001b[33mreset\u001b[39m\u001b[33m\"\u001b[39m, \u001b[33m\"\u001b[39m\u001b[33mdelay\u001b[39m\u001b[33m\"\u001b[39m, \u001b[33m\"\u001b[39m\u001b[33mmeasure\u001b[39m\u001b[33m\"\u001b[39m], \u001b[33m\"\u001b[39m\u001b[33mcoupling_map\u001b[39m\u001b[33m\"\u001b[39m: [], \u001b[33m\"\u001b[39m\u001b[33mstatus\u001b[39m\u001b[33m\"\u001b[39m: \u001b[33m\"\u001b[39m\u001b[33mavailable\u001b[39m\u001b[33m\"\u001b[39m, \u001b[33m\"\u001b[39m\u001b[33mtype\u001b[39m\u001b[33m\"\u001b[39m: \u001b[33m\"\u001b[39m\u001b[33mreal\u001b[39m\u001b[33m\"\u001b[39m, \u001b[33m\"\u001b[39m\u001b[33mwait_time\u001b[39m\u001b[33m\"\u001b[39m: \u001b[32m15\u001b[39m, \u001b[33m\"\u001b[39m\u001b[33mscore\u001b[39m\u001b[33m\"\u001b[39m: \u001b[32m0.95\u001b[39m, \u001b[33m\"\u001b[39m\u001b[33mprice_per_qpu_second\u001b[39m\u001b[33m\"\u001b[39m: \u001b[32m1.70\u001b[39m },\n\u001b[32m     46\u001b[39m             { \u001b[33m\"\u001b[39m\u001b[33mname\u001b[39m\u001b[33m\"\u001b[39m: \u001b[33m\"\u001b[39m\u001b[33mibm_torino\u001b[39m\u001b[33m\"\u001b[39m, \u001b[33m\"\u001b[39m\u001b[33mqubits\u001b[39m\u001b[33m\"\u001b[39m: \u001b[32m138\u001b[39m, \u001b[33m\"\u001b[39m\u001b[33mbasis_gates\u001b[39m\u001b[33m\"\u001b[39m: [\u001b[33m\"\u001b[39m\u001b[33mid\u001b[39m\u001b[33m\"\u001b[39m, \u001b[33m\"\u001b[39m\u001b[33mrz\u001b[39m\u001b[33m\"\u001b[39m, \u001b[33m\"\u001b[39m\u001b[33msx\u001b[39m\u001b[33m\"\u001b[39m, \u001b[33m\"\u001b[39m\u001b[33mx\u001b[39m\u001b[33m\"\u001b[39m, \u001b[33m\"\u001b[39m\u001b[33mcx\u001b[39m\u001b[33m\"\u001b[39m, \u001b[33m\"\u001b[39m\u001b[33mreset\u001b[39m\u001b[33m\"\u001b[39m, \u001b[33m\"\u001b[39m\u001b[33mdelay\u001b[39m\u001b[33m\"\u001b[39m, \u001b[33m\"\u001b[39m\u001b[33mmeasure\u001b[39m\u001b[33m\"\u001b[39m], \u001b[33m\"\u001b[39m\u001b[33mcoupling_map\u001b[39m\u001b[33m\"\u001b[39m: [], \u001b[33m\"\u001b[39m\u001b[33mstatus\u001b[39m\u001b[33m\"\u001b[39m: \u001b[33m\"\u001b[39m\u001b[33mavailable\u001b[39m\u001b[33m\"\u001b[39m, \u001b[33m\"\u001b[39m\u001b[33mtype\u001b[39m\u001b[33m\"\u001b[39m: \u001b[33m\"\u001b[39m\u001b[33mreal\u001b[39m\u001b[33m\"\u001b[39m, \u001b[33m\"\u001b[39m\u001b[33mwait_time\u001b[39m\u001b[33m\"\u001b[39m: \u001b[32m25\u001b[39m, \u001b[33m\"\u001b[39m\u001b[33mscore\u001b[39m\u001b[33m\"\u001b[39m: \u001b[32m0.93\u001b[39m, \u001b[33m\"\u001b[39m\u001b[33mprice_per_qpu_second\u001b[39m\u001b[33m\"\u001b[39m: \u001b[32m2.10\u001b[39m }\n\u001b[32m     47\u001b[39m         ]\n\u001b[32m     49\u001b[39m \u001b[38;5;66;03m# --- CORE LOGIC FOR CODE FORMAT DETECTION ---\u001b[39;00m\n\u001b[32m---> \u001b[39m\u001b[32m51\u001b[39m \u001b[38;5;28;01mdef\u001b[39;00m\u001b[38;5;250m \u001b[39m\u001b[34mdetect_circuit_format\u001b[39m(cell: \u001b[38;5;28mstr\u001b[39m) -> \u001b[43mTuple\u001b[49m[\u001b[38;5;28mstr\u001b[39m, \u001b[38;5;28mstr\u001b[39m]:\n\u001b[32m     52\u001b[39m \u001b[38;5;250m    \u001b[39m\u001b[33;03m\"\"\"\u001b[39;00m\n\u001b[32m     53\u001b[39m \u001b[33;03m    Analyzes the cell content to determine if it's Qiskit Python, QASM 2.0, or QASM 3.0.\u001b[39;00m\n\u001b[32m     54\u001b[39m \u001b[33;03m    Returns: (circuit_format, circuit_code)\u001b[39;00m\n\u001b[32m     55\u001b[39m \u001b[33;03m    \"\"\"\u001b[39;00m\n\u001b[32m     56\u001b[39m     stripped_cell = cell.strip()\n",
      "\u001b[31mNameError\u001b[39m: name 'Tuple' is not defined"
     ]
    }
   ],
   "source": [
    "from qcompile_magic import *"
   ]
  },
  {
   "cell_type": "code",
   "execution_count": null,
   "id": "2a632418-0f8a-468b-845f-1416c9738acf",
   "metadata": {},
   "outputs": [],
   "source": []
  }
 ],
 "metadata": {
  "kernelspec": {
   "display_name": "Python 3 (ipykernel)",
   "language": "python",
   "name": "python3"
  },
  "language_info": {
   "codemirror_mode": {
    "name": "ipython",
    "version": 3
   },
   "file_extension": ".py",
   "mimetype": "text/x-python",
   "name": "python",
   "nbconvert_exporter": "python",
   "pygments_lexer": "ipython3",
   "version": "3.12.10"
  }
 },
 "nbformat": 4,
 "nbformat_minor": 5
}
