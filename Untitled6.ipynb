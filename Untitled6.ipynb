{
 "cells": [
  {
   "cell_type": "code",
   "execution_count": 1,
   "id": "2faa6e43-f5f4-4804-b23b-0d1a32007e21",
   "metadata": {},
   "outputs": [
    {
     "data": {
      "text/html": [
       "\n",
       "<div style=\"border: 2px solid #007bff; padding: 15px; border-radius: 5px; background-color: #f0f8ff; margin: 10px 0;\">\n",
       "    <h3 style=\"color: #007bff; margin-top: 0;\">✅ Quantum Compiler Magics Loaded</h3>\n",
       "    <p>Use these commands to interact with the backend service:</p>\n",
       "    <ul>\n",
       "        <li><code>%%qcompile</code> (Cell): Compile Qiskit/QASM code and get metrics.</li>\n",
       "        <li><code>%qdevice_details</code> (Line): View AI/ML metrics (Score, Queue, Success Prob.) for all devices.</li>\n",
       "        <li><code>%qjob_status &lt;job_id&gt;</code> (Line): Check the status of a submitted job.</li>\n",
       "    </ul>\n",
       "    <p><strong>Backend API:</strong> <code>http://localhost:8000/api</code></p>\n",
       "</div>\n"
      ],
      "text/plain": [
       "<IPython.core.display.HTML object>"
      ]
     },
     "metadata": {},
     "output_type": "display_data"
    }
   ],
   "source": [
    "from qcompile_magic import *"
   ]
  },
  {
   "cell_type": "code",
   "execution_count": 3,
   "id": "06c069fc-61c9-4b7c-8c90-25b73249f3bd",
   "metadata": {},
   "outputs": [
    {
     "name": "stdout",
     "output_type": "stream",
     "text": [
      "🧠 AI-Enhanced Device Status\n",
      "Error fetching device data (HTTP 401): Could not validate credentials\n",
      "🧠 AI-Enhanced Device Status\n",
      "Error fetching device data (HTTP 401): Could not validate credentials\n"
     ]
    }
   ],
   "source": [
    "%qdevice_details\n",
    "from qiskit import QuantumCircuit\n",
    "get_ipython().run_line_magic('qdevice_details', '')"
   ]
  },
  {
   "cell_type": "code",
   "execution_count": null,
   "id": "c2e4de77-4689-413c-8b66-063e829586f7",
   "metadata": {},
   "outputs": [],
   "source": []
  }
 ],
 "metadata": {
  "kernelspec": {
   "display_name": "Python 3 (ipykernel)",
   "language": "python",
   "name": "python3"
  },
  "language_info": {
   "codemirror_mode": {
    "name": "ipython",
    "version": 3
   },
   "file_extension": ".py",
   "mimetype": "text/x-python",
   "name": "python",
   "nbconvert_exporter": "python",
   "pygments_lexer": "ipython3",
   "version": "3.12.10"
  }
 },
 "nbformat": 4,
 "nbformat_minor": 5
}
