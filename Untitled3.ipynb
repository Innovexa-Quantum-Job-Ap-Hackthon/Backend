{
 "cells": [
  {
   "cell_type": "code",
   "execution_count": 4,
   "id": "ae8e1103-1483-41a7-9f57-e3340de2cb42",
   "metadata": {},
   "outputs": [
    {
     "name": "stdout",
     "output_type": "stream",
     "text": [
      "✅ Backend path found: C:\\Users\\rohit\\Desktop\\Quantum_dashboard-FinalHackthon\\backend\\..\\backend\n",
      "✅ IBM Quantum Runtime Service set successfully\n",
      "✅ IBM Quantum Runtime service initialized successfully\n"
     ]
    }
   ],
   "source": [
    "import sys\n",
    "sys.path.append('..')  # Adjust path if qcompile_magic.py is in parent folder\n",
    "\n",
    "from qiskit_ibm_runtime import QiskitRuntimeService\n",
    "from qcompile_magic import set_ibm_service\n",
    "\n",
    "# Replace these with your actual credentials\n",
    "user_token = \"5n9pdJi3TpzitjZhSNhEf_0zYHNQbLSj_uastMTXc2IB\"\n",
    "instance_crn = \"crn:v1:bluemix:public:quantum-computing:us-east:a/b36515cea0404979ab0d297f4676253c:85a185bb-8613-4b85-8f3c-31781aabc0e4::\"\n",
    "\n",
    "# Initialize the IBM Quantum Runtime Service with channel and instance\n",
    "user_service = QiskitRuntimeService(\n",
    "    channel=\"ibm_quantum_platform\",  # mandatory when using token\n",
    "    token=user_token,\n",
    "    instance=instance_crn           # optional but recommended if you have a specific instance\n",
    ")\n",
    "\n",
    "# Set the service for your qcompile_magic\n",
    "set_ibm_service(user_service)\n",
    "\n",
    "print(\"✅ IBM Quantum Runtime service initialized successfully\")"
   ]
  },
  {
   "cell_type": "code",
   "execution_count": 10,
   "id": "c3f9e90f-512b-43d5-987b-a0e3c49d069d",
   "metadata": {},
   "outputs": [
    {
     "name": "stdout",
     "output_type": "stream",
     "text": [
      "🔍 Using QASM 2.0 format\n",
      "🚀 Compiling circuit with format: QASM\n",
      "==================================================\n",
      "❌ Compilation failed: \"<input>:6,0: cannot use non-builtin custom instruction 'h' before definition\"\n",
      "Please check your QASM syntax and try again.\n"
     ]
    }
   ],
   "source": [
    "%%qcompile qasm2\n",
    "OPENQASM 2.0;\n",
    "\n",
    "qreg q[2];\n",
    "creg c[2];\n",
    "\n",
    "h q[0];\n",
    "cx q[0], q[1];\n",
    "\n",
    "measure q[0] -> c[0];\n",
    "measure q[1] -> c[1];\n"
   ]
  },
  {
   "cell_type": "code",
   "execution_count": 12,
   "id": "399f12e0-3c2b-483c-8a3e-214a5038bb11",
   "metadata": {},
   "outputs": [
    {
     "name": "stdout",
     "output_type": "stream",
     "text": [
      "Requirement already satisfied: qiskit in c:\\users\\rohit\\desktop\\quantum_dashboard-finalhackthon\\backend\\start\\lib\\site-packages (2.2.0)\n",
      "Collecting qiskit-aer\n",
      "  Using cached qiskit_aer-0.17.2-cp313-cp313-win_amd64.whl.metadata (8.5 kB)\n",
      "Requirement already satisfied: matplotlib in c:\\users\\rohit\\desktop\\quantum_dashboard-finalhackthon\\backend\\start\\lib\\site-packages (3.10.6)\n",
      "Requirement already satisfied: rustworkx>=0.15.0 in c:\\users\\rohit\\desktop\\quantum_dashboard-finalhackthon\\backend\\start\\lib\\site-packages (from qiskit) (0.17.1)\n",
      "Requirement already satisfied: numpy<3,>=1.17 in c:\\users\\rohit\\desktop\\quantum_dashboard-finalhackthon\\backend\\start\\lib\\site-packages (from qiskit) (2.3.3)\n",
      "Requirement already satisfied: scipy>=1.5 in c:\\users\\rohit\\desktop\\quantum_dashboard-finalhackthon\\backend\\start\\lib\\site-packages (from qiskit) (1.16.2)\n",
      "Requirement already satisfied: dill>=0.3 in c:\\users\\rohit\\desktop\\quantum_dashboard-finalhackthon\\backend\\start\\lib\\site-packages (from qiskit) (0.4.0)\n",
      "Requirement already satisfied: stevedore>=3.0.0 in c:\\users\\rohit\\desktop\\quantum_dashboard-finalhackthon\\backend\\start\\lib\\site-packages (from qiskit) (5.5.0)\n",
      "Requirement already satisfied: typing-extensions in c:\\users\\rohit\\desktop\\quantum_dashboard-finalhackthon\\backend\\start\\lib\\site-packages (from qiskit) (4.15.0)\n",
      "Requirement already satisfied: psutil>=5 in c:\\users\\rohit\\desktop\\quantum_dashboard-finalhackthon\\backend\\start\\lib\\site-packages (from qiskit-aer) (7.1.0)\n",
      "Requirement already satisfied: python-dateutil>=2.8.0 in c:\\users\\rohit\\desktop\\quantum_dashboard-finalhackthon\\backend\\start\\lib\\site-packages (from qiskit-aer) (2.9.0.post0)\n",
      "Requirement already satisfied: contourpy>=1.0.1 in c:\\users\\rohit\\desktop\\quantum_dashboard-finalhackthon\\backend\\start\\lib\\site-packages (from matplotlib) (1.3.3)\n",
      "Requirement already satisfied: cycler>=0.10 in c:\\users\\rohit\\desktop\\quantum_dashboard-finalhackthon\\backend\\start\\lib\\site-packages (from matplotlib) (0.12.1)\n",
      "Requirement already satisfied: fonttools>=4.22.0 in c:\\users\\rohit\\desktop\\quantum_dashboard-finalhackthon\\backend\\start\\lib\\site-packages (from matplotlib) (4.59.2)\n",
      "Requirement already satisfied: kiwisolver>=1.3.1 in c:\\users\\rohit\\desktop\\quantum_dashboard-finalhackthon\\backend\\start\\lib\\site-packages (from matplotlib) (1.4.9)\n",
      "Requirement already satisfied: packaging>=20.0 in c:\\users\\rohit\\desktop\\quantum_dashboard-finalhackthon\\backend\\start\\lib\\site-packages (from matplotlib) (25.0)\n",
      "Requirement already satisfied: pillow>=8 in c:\\users\\rohit\\desktop\\quantum_dashboard-finalhackthon\\backend\\start\\lib\\site-packages (from matplotlib) (11.3.0)\n",
      "Requirement already satisfied: pyparsing>=2.3.1 in c:\\users\\rohit\\desktop\\quantum_dashboard-finalhackthon\\backend\\start\\lib\\site-packages (from matplotlib) (3.2.4)\n",
      "Requirement already satisfied: six>=1.5 in c:\\users\\rohit\\desktop\\quantum_dashboard-finalhackthon\\backend\\start\\lib\\site-packages (from python-dateutil>=2.8.0->qiskit-aer) (1.17.0)\n",
      "Using cached qiskit_aer-0.17.2-cp313-cp313-win_amd64.whl (9.6 MB)\n",
      "Installing collected packages: qiskit-aer\n",
      "Successfully installed qiskit-aer-0.17.2\n"
     ]
    },
    {
     "name": "stderr",
     "output_type": "stream",
     "text": [
      "WARNING: Ignoring invalid distribution ~ympy (C:\\Users\\rohit\\Desktop\\Quantum_dashboard-FinalHackthon\\backend\\start\\Lib\\site-packages)\n",
      "WARNING: Ignoring invalid distribution ~ympy (C:\\Users\\rohit\\Desktop\\Quantum_dashboard-FinalHackthon\\backend\\start\\Lib\\site-packages)\n",
      "WARNING: Ignoring invalid distribution ~ympy (C:\\Users\\rohit\\Desktop\\Quantum_dashboard-FinalHackthon\\backend\\start\\Lib\\site-packages)\n"
     ]
    }
   ],
   "source": [
    "!pip install qiskit qiskit-aer matplotlib\n"
   ]
  },
  {
   "cell_type": "code",
   "execution_count": 13,
   "id": "8f779537-e25c-4336-8402-174c970c7726",
   "metadata": {},
   "outputs": [
    {
     "ename": "ImportError",
     "evalue": "DLL load failed while importing controller_wrappers: The specified module could not be found.",
     "output_type": "error",
     "traceback": [
      "\u001b[31m---------------------------------------------------------------------------\u001b[39m",
      "\u001b[31mImportError\u001b[39m                               Traceback (most recent call last)",
      "\u001b[36mCell\u001b[39m\u001b[36m \u001b[39m\u001b[32mIn[13]\u001b[39m\u001b[32m, line 2\u001b[39m\n\u001b[32m      1\u001b[39m \u001b[38;5;28;01mfrom\u001b[39;00m\u001b[38;5;250m \u001b[39m\u001b[34;01mqiskit\u001b[39;00m\u001b[38;5;250m \u001b[39m\u001b[38;5;28;01mimport\u001b[39;00m QuantumCircuit, transpile\n\u001b[32m----> \u001b[39m\u001b[32m2\u001b[39m \u001b[38;5;28;01mfrom\u001b[39;00m\u001b[38;5;250m \u001b[39m\u001b[34;01mqiskit_aer\u001b[39;00m\u001b[38;5;250m \u001b[39m\u001b[38;5;28;01mimport\u001b[39;00m AerSimulator\n\u001b[32m      3\u001b[39m \u001b[38;5;28;01mfrom\u001b[39;00m\u001b[38;5;250m \u001b[39m\u001b[34;01mqiskit\u001b[39;00m\u001b[34;01m.\u001b[39;00m\u001b[34;01mvisualization\u001b[39;00m\u001b[38;5;250m \u001b[39m\u001b[38;5;28;01mimport\u001b[39;00m plot_histogram\n\u001b[32m      4\u001b[39m \u001b[38;5;28;01mimport\u001b[39;00m\u001b[38;5;250m \u001b[39m\u001b[34;01mmatplotlib\u001b[39;00m\u001b[34;01m.\u001b[39;00m\u001b[34;01mpyplot\u001b[39;00m\u001b[38;5;250m \u001b[39m\u001b[38;5;28;01mas\u001b[39;00m\u001b[38;5;250m \u001b[39m\u001b[34;01mplt\u001b[39;00m\n",
      "\u001b[36mFile \u001b[39m\u001b[32m~\\Desktop\\Quantum_dashboard-FinalHackthon\\backend\\start\\Lib\\site-packages\\qiskit_aer\\__init__.py:69\u001b[39m\n\u001b[32m     65\u001b[39m     np.dot(np.zeros(\u001b[32m100\u001b[39m), np.zeros(\u001b[32m100\u001b[39m))\n\u001b[32m     66\u001b[39m \u001b[38;5;66;03m# ... ¯\\_(ツ)_/¯\u001b[39;00m\n\u001b[32m     67\u001b[39m \n\u001b[32m     68\u001b[39m \u001b[38;5;66;03m# pylint: disable=wrong-import-position\u001b[39;00m\n\u001b[32m---> \u001b[39m\u001b[32m69\u001b[39m \u001b[38;5;28;01mfrom\u001b[39;00m\u001b[38;5;250m \u001b[39m\u001b[34;01mqiskit_aer\u001b[39;00m\u001b[34;01m.\u001b[39;00m\u001b[34;01maerprovider\u001b[39;00m\u001b[38;5;250m \u001b[39m\u001b[38;5;28;01mimport\u001b[39;00m AerProvider\n\u001b[32m     70\u001b[39m \u001b[38;5;28;01mfrom\u001b[39;00m\u001b[38;5;250m \u001b[39m\u001b[34;01mqiskit_aer\u001b[39;00m\u001b[34;01m.\u001b[39;00m\u001b[34;01mjobs\u001b[39;00m\u001b[38;5;250m \u001b[39m\u001b[38;5;28;01mimport\u001b[39;00m AerJob\n\u001b[32m     71\u001b[39m \u001b[38;5;28;01mfrom\u001b[39;00m\u001b[38;5;250m \u001b[39m\u001b[34;01mqiskit_aer\u001b[39;00m\u001b[34;01m.\u001b[39;00m\u001b[34;01maererror\u001b[39;00m\u001b[38;5;250m \u001b[39m\u001b[38;5;28;01mimport\u001b[39;00m AerError\n",
      "\u001b[36mFile \u001b[39m\u001b[32m~\\Desktop\\Quantum_dashboard-FinalHackthon\\backend\\start\\Lib\\site-packages\\qiskit_aer\\aerprovider.py:20\u001b[39m\n\u001b[32m     17\u001b[39m \u001b[38;5;28;01mfrom\u001b[39;00m\u001b[38;5;250m \u001b[39m\u001b[34;01mqiskit\u001b[39;00m\u001b[34;01m.\u001b[39;00m\u001b[34;01mproviders\u001b[39;00m\u001b[38;5;250m \u001b[39m\u001b[38;5;28;01mimport\u001b[39;00m QiskitBackendNotFoundError\n\u001b[32m     18\u001b[39m \u001b[38;5;28;01mfrom\u001b[39;00m\u001b[38;5;250m \u001b[39m\u001b[34;01mqiskit\u001b[39;00m\u001b[34;01m.\u001b[39;00m\u001b[34;01mproviders\u001b[39;00m\u001b[34;01m.\u001b[39;00m\u001b[34;01mproviderutils\u001b[39;00m\u001b[38;5;250m \u001b[39m\u001b[38;5;28;01mimport\u001b[39;00m filter_backends\n\u001b[32m---> \u001b[39m\u001b[32m20\u001b[39m \u001b[38;5;28;01mfrom\u001b[39;00m\u001b[38;5;250m \u001b[39m\u001b[34;01m.\u001b[39;00m\u001b[34;01mbackends\u001b[39;00m\u001b[34;01m.\u001b[39;00m\u001b[34;01maer_simulator\u001b[39;00m\u001b[38;5;250m \u001b[39m\u001b[38;5;28;01mimport\u001b[39;00m AerSimulator\n\u001b[32m     21\u001b[39m \u001b[38;5;28;01mfrom\u001b[39;00m\u001b[38;5;250m \u001b[39m\u001b[34;01m.\u001b[39;00m\u001b[34;01mbackends\u001b[39;00m\u001b[34;01m.\u001b[39;00m\u001b[34;01mqasm_simulator\u001b[39;00m\u001b[38;5;250m \u001b[39m\u001b[38;5;28;01mimport\u001b[39;00m QasmSimulator\n\u001b[32m     22\u001b[39m \u001b[38;5;28;01mfrom\u001b[39;00m\u001b[38;5;250m \u001b[39m\u001b[34;01m.\u001b[39;00m\u001b[34;01mbackends\u001b[39;00m\u001b[34;01m.\u001b[39;00m\u001b[34;01mstatevector_simulator\u001b[39;00m\u001b[38;5;250m \u001b[39m\u001b[38;5;28;01mimport\u001b[39;00m StatevectorSimulator\n",
      "\u001b[36mFile \u001b[39m\u001b[32m~\\Desktop\\Quantum_dashboard-FinalHackthon\\backend\\start\\Lib\\site-packages\\qiskit_aer\\backends\\__init__.py:17\u001b[39m\n\u001b[32m      1\u001b[39m \u001b[38;5;66;03m# This code is part of Qiskit.\u001b[39;00m\n\u001b[32m      2\u001b[39m \u001b[38;5;66;03m#\u001b[39;00m\n\u001b[32m      3\u001b[39m \u001b[38;5;66;03m# (C) Copyright IBM 2018, 2019.\u001b[39;00m\n\u001b[32m   (...)\u001b[39m\u001b[32m     10\u001b[39m \u001b[38;5;66;03m# copyright notice, and modified files need to carry a notice indicating\u001b[39;00m\n\u001b[32m     11\u001b[39m \u001b[38;5;66;03m# that they have been altered from the originals.\u001b[39;00m\n\u001b[32m     13\u001b[39m \u001b[33;03m\"\"\"\u001b[39;00m\n\u001b[32m     14\u001b[39m \u001b[33;03mAer Provider Simulator Backends\u001b[39;00m\n\u001b[32m     15\u001b[39m \u001b[33;03m\"\"\"\u001b[39;00m\n\u001b[32m---> \u001b[39m\u001b[32m17\u001b[39m \u001b[38;5;28;01mfrom\u001b[39;00m\u001b[38;5;250m \u001b[39m\u001b[34;01m.\u001b[39;00m\u001b[34;01maer_simulator\u001b[39;00m\u001b[38;5;250m \u001b[39m\u001b[38;5;28;01mimport\u001b[39;00m AerSimulator\n\u001b[32m     18\u001b[39m \u001b[38;5;28;01mfrom\u001b[39;00m\u001b[38;5;250m \u001b[39m\u001b[34;01m.\u001b[39;00m\u001b[34;01mqasm_simulator\u001b[39;00m\u001b[38;5;250m \u001b[39m\u001b[38;5;28;01mimport\u001b[39;00m QasmSimulator\n\u001b[32m     19\u001b[39m \u001b[38;5;28;01mfrom\u001b[39;00m\u001b[38;5;250m \u001b[39m\u001b[34;01m.\u001b[39;00m\u001b[34;01mstatevector_simulator\u001b[39;00m\u001b[38;5;250m \u001b[39m\u001b[38;5;28;01mimport\u001b[39;00m StatevectorSimulator\n",
      "\u001b[36mFile \u001b[39m\u001b[32m~\\Desktop\\Quantum_dashboard-FinalHackthon\\backend\\start\\Lib\\site-packages\\qiskit_aer\\backends\\aer_simulator.py:22\u001b[39m\n\u001b[32m     19\u001b[39m \u001b[38;5;28;01mfrom\u001b[39;00m\u001b[38;5;250m \u001b[39m\u001b[34;01mqiskit\u001b[39;00m\u001b[34;01m.\u001b[39;00m\u001b[34;01mproviders\u001b[39;00m\u001b[34;01m.\u001b[39;00m\u001b[34;01mbackend\u001b[39;00m\u001b[38;5;250m \u001b[39m\u001b[38;5;28;01mimport\u001b[39;00m BackendV2\n\u001b[32m     21\u001b[39m \u001b[38;5;28;01mfrom\u001b[39;00m\u001b[38;5;250m \u001b[39m\u001b[34;01m.\u001b[39;00m\u001b[34;01m.\u001b[39;00m\u001b[34;01mversion\u001b[39;00m\u001b[38;5;250m \u001b[39m\u001b[38;5;28;01mimport\u001b[39;00m __version__\n\u001b[32m---> \u001b[39m\u001b[32m22\u001b[39m \u001b[38;5;28;01mfrom\u001b[39;00m\u001b[38;5;250m \u001b[39m\u001b[34;01m.\u001b[39;00m\u001b[34;01maerbackend\u001b[39;00m\u001b[38;5;250m \u001b[39m\u001b[38;5;28;01mimport\u001b[39;00m AerBackend, AerError\n\u001b[32m     23\u001b[39m \u001b[38;5;28;01mfrom\u001b[39;00m\u001b[38;5;250m \u001b[39m\u001b[34;01m.\u001b[39;00m\u001b[34;01mbackendconfiguration\u001b[39;00m\u001b[38;5;250m \u001b[39m\u001b[38;5;28;01mimport\u001b[39;00m AerBackendConfiguration\n\u001b[32m     24\u001b[39m \u001b[38;5;28;01mfrom\u001b[39;00m\u001b[38;5;250m \u001b[39m\u001b[34;01m.\u001b[39;00m\u001b[34;01mbackendproperties\u001b[39;00m\u001b[38;5;250m \u001b[39m\u001b[38;5;28;01mimport\u001b[39;00m target_to_backend_properties\n",
      "\u001b[36mFile \u001b[39m\u001b[32m~\\Desktop\\Quantum_dashboard-FinalHackthon\\backend\\start\\Lib\\site-packages\\qiskit_aer\\backends\\aerbackend.py:31\u001b[39m\n\u001b[32m     29\u001b[39m \u001b[38;5;28;01mfrom\u001b[39;00m\u001b[38;5;250m \u001b[39m\u001b[34;01m.\u001b[39;00m\u001b[34;01m.\u001b[39;00m\u001b[34;01maererror\u001b[39;00m\u001b[38;5;250m \u001b[39m\u001b[38;5;28;01mimport\u001b[39;00m AerError\n\u001b[32m     30\u001b[39m \u001b[38;5;28;01mfrom\u001b[39;00m\u001b[38;5;250m \u001b[39m\u001b[34;01m.\u001b[39;00m\u001b[34;01m.\u001b[39;00m\u001b[34;01mjobs\u001b[39;00m\u001b[38;5;250m \u001b[39m\u001b[38;5;28;01mimport\u001b[39;00m AerJob\n\u001b[32m---> \u001b[39m\u001b[32m31\u001b[39m \u001b[38;5;28;01mfrom\u001b[39;00m\u001b[38;5;250m \u001b[39m\u001b[34;01m.\u001b[39;00m\u001b[34;01m.\u001b[39;00m\u001b[34;01mnoise\u001b[39;00m\u001b[34;01m.\u001b[39;00m\u001b[34;01mnoise_model\u001b[39;00m\u001b[38;5;250m \u001b[39m\u001b[38;5;28;01mimport\u001b[39;00m NoiseModel, QuantumErrorLocation\n\u001b[32m     32\u001b[39m \u001b[38;5;28;01mfrom\u001b[39;00m\u001b[38;5;250m \u001b[39m\u001b[34;01m.\u001b[39;00m\u001b[34;01m.\u001b[39;00m\u001b[34;01mnoise\u001b[39;00m\u001b[34;01m.\u001b[39;00m\u001b[34;01merrors\u001b[39;00m\u001b[34;01m.\u001b[39;00m\u001b[34;01mbase_quantum_error\u001b[39;00m\u001b[38;5;250m \u001b[39m\u001b[38;5;28;01mimport\u001b[39;00m QuantumChannelInstruction\n\u001b[32m     33\u001b[39m \u001b[38;5;28;01mfrom\u001b[39;00m\u001b[38;5;250m \u001b[39m\u001b[34;01m.\u001b[39;00m\u001b[34;01maer_compiler\u001b[39;00m\u001b[38;5;250m \u001b[39m\u001b[38;5;28;01mimport\u001b[39;00m compile_circuit, assemble_circuits, generate_aer_config\n",
      "\u001b[36mFile \u001b[39m\u001b[32m~\\Desktop\\Quantum_dashboard-FinalHackthon\\backend\\start\\Lib\\site-packages\\qiskit_aer\\noise\\__init__.py:241\u001b[39m\n\u001b[32m     13\u001b[39m \u001b[33mr\u001b[39m\u001b[33;03m\"\"\"\u001b[39;00m\n\u001b[32m     14\u001b[39m \u001b[33;03m================================================\u001b[39;00m\n\u001b[32m     15\u001b[39m \u001b[33;03mNoise Models (:mod:`qiskit_aer.noise`)\u001b[39;00m\n\u001b[32m   (...)\u001b[39m\u001b[32m    237\u001b[39m \u001b[33;03m    device.thermal_relaxation_values\u001b[39;00m\n\u001b[32m    238\u001b[39m \u001b[33;03m\"\"\"\u001b[39;00m\n\u001b[32m    240\u001b[39m \u001b[38;5;66;03m# Noise and Error classes\u001b[39;00m\n\u001b[32m--> \u001b[39m\u001b[32m241\u001b[39m \u001b[38;5;28;01mfrom\u001b[39;00m\u001b[38;5;250m \u001b[39m\u001b[34;01m.\u001b[39;00m\u001b[34;01mnoise_model\u001b[39;00m\u001b[38;5;250m \u001b[39m\u001b[38;5;28;01mimport\u001b[39;00m NoiseModel\n\u001b[32m    242\u001b[39m \u001b[38;5;28;01mfrom\u001b[39;00m\u001b[38;5;250m \u001b[39m\u001b[34;01m.\u001b[39;00m\u001b[34;01merrors\u001b[39;00m\u001b[38;5;250m \u001b[39m\u001b[38;5;28;01mimport\u001b[39;00m QuantumError\n\u001b[32m    243\u001b[39m \u001b[38;5;28;01mfrom\u001b[39;00m\u001b[38;5;250m \u001b[39m\u001b[34;01m.\u001b[39;00m\u001b[34;01merrors\u001b[39;00m\u001b[38;5;250m \u001b[39m\u001b[38;5;28;01mimport\u001b[39;00m PauliError\n",
      "\u001b[36mFile \u001b[39m\u001b[32m~\\Desktop\\Quantum_dashboard-FinalHackthon\\backend\\start\\Lib\\site-packages\\qiskit_aer\\noise\\noise_model.py:36\u001b[39m\n\u001b[32m     34\u001b[39m \u001b[38;5;28;01mfrom\u001b[39;00m\u001b[38;5;250m \u001b[39m\u001b[34;01m.\u001b[39;00m\u001b[34;01mnoiseerror\u001b[39;00m\u001b[38;5;250m \u001b[39m\u001b[38;5;28;01mimport\u001b[39;00m NoiseError\n\u001b[32m     35\u001b[39m \u001b[38;5;28;01mfrom\u001b[39;00m\u001b[38;5;250m \u001b[39m\u001b[34;01m.\u001b[39;00m\u001b[34;01mpasses\u001b[39;00m\u001b[38;5;250m \u001b[39m\u001b[38;5;28;01mimport\u001b[39;00m RelaxationNoisePass\n\u001b[32m---> \u001b[39m\u001b[32m36\u001b[39m \u001b[38;5;28;01mfrom\u001b[39;00m\u001b[38;5;250m \u001b[39m\u001b[34;01m.\u001b[39;00m\u001b[34;01m.\u001b[39;00m\u001b[34;01mbackends\u001b[39;00m\u001b[34;01m.\u001b[39;00m\u001b[34;01mbackend_utils\u001b[39;00m\u001b[38;5;250m \u001b[39m\u001b[38;5;28;01mimport\u001b[39;00m BASIS_GATES\n\u001b[32m     38\u001b[39m logger = logging.getLogger(\u001b[34m__name__\u001b[39m)\n\u001b[32m     41\u001b[39m \u001b[38;5;28;01mclass\u001b[39;00m\u001b[38;5;250m \u001b[39m\u001b[34;01mAerJSONEncoder\u001b[39;00m(json.JSONEncoder):\n",
      "\u001b[36mFile \u001b[39m\u001b[32m~\\Desktop\\Quantum_dashboard-FinalHackthon\\backend\\start\\Lib\\site-packages\\qiskit_aer\\backends\\backend_utils.py:30\u001b[39m\n\u001b[32m     27\u001b[39m \u001b[38;5;28;01mfrom\u001b[39;00m\u001b[38;5;250m \u001b[39m\u001b[34;01m.\u001b[39;00m\u001b[34;01mcompatibility\u001b[39;00m\u001b[38;5;250m \u001b[39m\u001b[38;5;28;01mimport\u001b[39;00m Statevector, DensityMatrix, StabilizerState, Operator, SuperOp\n\u001b[32m     29\u001b[39m \u001b[38;5;66;03m# pylint: disable=import-error, no-name-in-module, abstract-method\u001b[39;00m\n\u001b[32m---> \u001b[39m\u001b[32m30\u001b[39m \u001b[38;5;28;01mfrom\u001b[39;00m\u001b[38;5;250m \u001b[39m\u001b[34;01m.\u001b[39;00m\u001b[34;01mcontroller_wrappers\u001b[39;00m\u001b[38;5;250m \u001b[39m\u001b[38;5;28;01mimport\u001b[39;00m aer_initialize_libraries\n\u001b[32m     32\u001b[39m \u001b[38;5;66;03m# Available system memory\u001b[39;00m\n\u001b[32m     33\u001b[39m SYSTEM_MEMORY_GB = psutil.virtual_memory().total / (\u001b[32m1024\u001b[39m**\u001b[32m3\u001b[39m)\n",
      "\u001b[31mImportError\u001b[39m: DLL load failed while importing controller_wrappers: The specified module could not be found."
     ]
    }
   ],
   "source": [
    "from qiskit import QuantumCircuit, transpile\n",
    "from qiskit_aer import AerSimulator\n",
    "from qiskit.visualization import plot_histogram\n",
    "import matplotlib.pyplot as plt\n"
   ]
  },
  {
   "cell_type": "code",
   "execution_count": null,
   "id": "9d107318-6d6b-40fa-874e-aeff063ee344",
   "metadata": {},
   "outputs": [],
   "source": [
    "# Create a 2-qubit, 2-classical-bit circuit\n",
    "qc = QuantumCircuit(2, 2)\n",
    "\n",
    "# Apply Hadamard on q[0] and CNOT to entangle q[0] and q[1]\n",
    "qc.h(0)\n",
    "qc.cx(0, 1)\n",
    "\n",
    "# Measure both qubits\n",
    "qc.measure([0, 1], [0, 1])\n",
    "\n",
    "# Draw the circuit\n",
    "qc.draw(\"mpl\")\n"
   ]
  },
  {
   "cell_type": "code",
   "execution_count": null,
   "id": "0b9b77d1-5eb3-43fb-8bd9-39fadac3f3b9",
   "metadata": {},
   "outputs": [],
   "source": [
    "# Create an Aer simulator\n",
    "sim = AerSimulator()\n",
    "\n",
    "# Transpile the circuit for the simulator\n",
    "compiled_circuit = transpile(qc, sim)\n",
    "\n",
    "# Run the simulation with 1000 shots\n",
    "result = sim.run(compiled_circuit, shots=1000).result()\n",
    "\n",
    "# Extract measurement counts\n",
    "counts = result.get_counts()\n",
    "\n",
    "# Display counts\n",
    "print(\"Simulation results:\", counts)\n",
    "\n",
    "# Plot histogram\n",
    "plot_histogram(counts)\n",
    "plt.show()\n"
   ]
  }
 ],
 "metadata": {
  "kernelspec": {
   "display_name": "Python 3 (ipykernel)",
   "language": "python",
   "name": "python3"
  },
  "language_info": {
   "codemirror_mode": {
    "name": "ipython",
    "version": 3
   },
   "file_extension": ".py",
   "mimetype": "text/x-python",
   "name": "python",
   "nbconvert_exporter": "python",
   "pygments_lexer": "ipython3",
   "version": "3.13.7"
  }
 },
 "nbformat": 4,
 "nbformat_minor": 5
}
